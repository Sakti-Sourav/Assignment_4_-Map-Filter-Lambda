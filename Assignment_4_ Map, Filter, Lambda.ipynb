{
 "cells": [
  {
   "cell_type": "code",
   "execution_count": 2,
   "id": "99085cc2",
   "metadata": {},
   "outputs": [
    {
     "name": "stdout",
     "output_type": "stream",
     "text": [
      "Input = 10\n",
      "Output = 35\n"
     ]
    }
   ],
   "source": [
    "# Write a Python program to create a lambda function that adds 25 to a given number passed in as an argument.\n",
    "\n",
    "n = int(input('Input = '))\n",
    "x = lambda n:n+25\n",
    "print('Output =' ,x(n))"
   ]
  },
  {
   "cell_type": "code",
   "execution_count": 11,
   "id": "1083d7de",
   "metadata": {},
   "outputs": [
    {
     "name": "stdout",
     "output_type": "stream",
     "text": [
      "Sample list =  [1, 2, 3, 4, 5, 6, 7]\n",
      "Triple of list numbers = [3, 6, 9, 12, 15, 18, 21]\n"
     ]
    }
   ],
   "source": [
    "# Write a Python program to triple all numbers of a given list of integers. Use Python map\n",
    "\n",
    "nums = [1, 2, 3, 4, 5, 6, 7]\n",
    "print(\"Sample list = \", nums)\n",
    "result = map(lambda x: x + x + x, nums) \n",
    "print(\"Triple of list numbers =\", list(result))"
   ]
  },
  {
   "cell_type": "code",
   "execution_count": 10,
   "id": "e61b0675",
   "metadata": {},
   "outputs": [
    {
     "name": "stdout",
     "output_type": "stream",
     "text": [
      "Original List =  [4, 5, 2, 9]\n",
      "Square the elements of the list = [16, 25, 4, 81]\n"
     ]
    }
   ],
   "source": [
    "# Write a Python program to square the elements of a list using map() function\n",
    "\n",
    "def square_num(n):\n",
    "  return n * n\n",
    "nums = [4, 5, 2, 9]\n",
    "print(\"Original List = \",nums)\n",
    "result = map(square_num, nums)\n",
    "print(\"Square the elements of the list =\", list(result))"
   ]
  }
 ],
 "metadata": {
  "kernelspec": {
   "display_name": "Python 3",
   "language": "python",
   "name": "python3"
  },
  "language_info": {
   "codemirror_mode": {
    "name": "ipython",
    "version": 3
   },
   "file_extension": ".py",
   "mimetype": "text/x-python",
   "name": "python",
   "nbconvert_exporter": "python",
   "pygments_lexer": "ipython3",
   "version": "3.9.5"
  }
 },
 "nbformat": 4,
 "nbformat_minor": 5
}
